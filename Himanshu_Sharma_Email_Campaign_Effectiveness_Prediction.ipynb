{
  "nbformat": 4,
  "nbformat_minor": 0,
  "metadata": {
    "colab": {
      "name": "Himanshu Sharma Email_Campaign_Effectiveness_Prediction.ipynb",
      "provenance": [],
      "collapsed_sections": [],
      "mount_file_id": "1gDJuTFZ0VzxvKm7Eq7k81HZPJFDnGaeo",
      "authorship_tag": "ABX9TyOqmYoSrFt80SvTZw9e8DWW",
      "include_colab_link": true
    },
    "kernelspec": {
      "name": "python3",
      "display_name": "Python 3"
    },
    "language_info": {
      "name": "python"
    }
  },
  "cells": [
    {
      "cell_type": "markdown",
      "metadata": {
        "id": "view-in-github",
        "colab_type": "text"
      },
      "source": [
        "<a href=\"https://colab.research.google.com/github/Harsh1091996/Email_Campaign_Effectiveness_Prediction/blob/main/Himanshu_Sharma_Email_Campaign_Effectiveness_Prediction.ipynb\" target=\"_parent\"><img src=\"https://colab.research.google.com/assets/colab-badge.svg\" alt=\"Open In Colab\"/></a>"
      ]
    },
    {
      "cell_type": "code",
      "metadata": {
        "id": "N69luBig7iBC"
      },
      "source": [
        "#Importing Modules\n",
        "import numpy as np\n",
        "import pandas as pd\n",
        "import matplotlib.pyplot as plt\n",
        "import seaborn as sns"
      ],
      "execution_count": 12,
      "outputs": []
    },
    {
      "cell_type": "code",
      "metadata": {
        "id": "C8VigRxs8uhx"
      },
      "source": [
        "#Path of data in drive\n",
        "data_path='/content/drive/MyDrive/AlmaBetter/Capstone_Project/Capstone Project II/data_email_campaign.csv'\n",
        "#Reading csv file\n",
        "email_data=pd.read_csv(data_path)"
      ],
      "execution_count": 3,
      "outputs": []
    },
    {
      "cell_type": "code",
      "metadata": {
        "colab": {
          "base_uri": "https://localhost:8080/",
          "height": 224
        },
        "id": "EZAWxAMD9JFU",
        "outputId": "b1a68f90-452a-4c9f-dea3-594c2e73116c"
      },
      "source": [
        "email_data.head()"
      ],
      "execution_count": 4,
      "outputs": [
        {
          "output_type": "execute_result",
          "data": {
            "text/html": [
              "<div>\n",
              "<style scoped>\n",
              "    .dataframe tbody tr th:only-of-type {\n",
              "        vertical-align: middle;\n",
              "    }\n",
              "\n",
              "    .dataframe tbody tr th {\n",
              "        vertical-align: top;\n",
              "    }\n",
              "\n",
              "    .dataframe thead th {\n",
              "        text-align: right;\n",
              "    }\n",
              "</style>\n",
              "<table border=\"1\" class=\"dataframe\">\n",
              "  <thead>\n",
              "    <tr style=\"text-align: right;\">\n",
              "      <th></th>\n",
              "      <th>Email_ID</th>\n",
              "      <th>Email_Type</th>\n",
              "      <th>Subject_Hotness_Score</th>\n",
              "      <th>Email_Source_Type</th>\n",
              "      <th>Customer_Location</th>\n",
              "      <th>Email_Campaign_Type</th>\n",
              "      <th>Total_Past_Communications</th>\n",
              "      <th>Time_Email_sent_Category</th>\n",
              "      <th>Word_Count</th>\n",
              "      <th>Total_Links</th>\n",
              "      <th>Total_Images</th>\n",
              "      <th>Email_Status</th>\n",
              "    </tr>\n",
              "  </thead>\n",
              "  <tbody>\n",
              "    <tr>\n",
              "      <th>0</th>\n",
              "      <td>EMA00081000034500</td>\n",
              "      <td>1</td>\n",
              "      <td>2.2</td>\n",
              "      <td>2</td>\n",
              "      <td>E</td>\n",
              "      <td>2</td>\n",
              "      <td>33.0</td>\n",
              "      <td>1</td>\n",
              "      <td>440</td>\n",
              "      <td>8.0</td>\n",
              "      <td>0.0</td>\n",
              "      <td>0</td>\n",
              "    </tr>\n",
              "    <tr>\n",
              "      <th>1</th>\n",
              "      <td>EMA00081000045360</td>\n",
              "      <td>2</td>\n",
              "      <td>2.1</td>\n",
              "      <td>1</td>\n",
              "      <td>NaN</td>\n",
              "      <td>2</td>\n",
              "      <td>15.0</td>\n",
              "      <td>2</td>\n",
              "      <td>504</td>\n",
              "      <td>5.0</td>\n",
              "      <td>0.0</td>\n",
              "      <td>0</td>\n",
              "    </tr>\n",
              "    <tr>\n",
              "      <th>2</th>\n",
              "      <td>EMA00081000066290</td>\n",
              "      <td>2</td>\n",
              "      <td>0.1</td>\n",
              "      <td>1</td>\n",
              "      <td>B</td>\n",
              "      <td>3</td>\n",
              "      <td>36.0</td>\n",
              "      <td>2</td>\n",
              "      <td>962</td>\n",
              "      <td>5.0</td>\n",
              "      <td>0.0</td>\n",
              "      <td>1</td>\n",
              "    </tr>\n",
              "    <tr>\n",
              "      <th>3</th>\n",
              "      <td>EMA00081000076560</td>\n",
              "      <td>1</td>\n",
              "      <td>3.0</td>\n",
              "      <td>2</td>\n",
              "      <td>E</td>\n",
              "      <td>2</td>\n",
              "      <td>25.0</td>\n",
              "      <td>2</td>\n",
              "      <td>610</td>\n",
              "      <td>16.0</td>\n",
              "      <td>0.0</td>\n",
              "      <td>0</td>\n",
              "    </tr>\n",
              "    <tr>\n",
              "      <th>4</th>\n",
              "      <td>EMA00081000109720</td>\n",
              "      <td>1</td>\n",
              "      <td>0.0</td>\n",
              "      <td>2</td>\n",
              "      <td>C</td>\n",
              "      <td>3</td>\n",
              "      <td>18.0</td>\n",
              "      <td>2</td>\n",
              "      <td>947</td>\n",
              "      <td>4.0</td>\n",
              "      <td>0.0</td>\n",
              "      <td>0</td>\n",
              "    </tr>\n",
              "  </tbody>\n",
              "</table>\n",
              "</div>"
            ],
            "text/plain": [
              "            Email_ID  Email_Type  ...  Total_Images  Email_Status\n",
              "0  EMA00081000034500           1  ...           0.0             0\n",
              "1  EMA00081000045360           2  ...           0.0             0\n",
              "2  EMA00081000066290           2  ...           0.0             1\n",
              "3  EMA00081000076560           1  ...           0.0             0\n",
              "4  EMA00081000109720           1  ...           0.0             0\n",
              "\n",
              "[5 rows x 12 columns]"
            ]
          },
          "metadata": {
            "tags": []
          },
          "execution_count": 4
        }
      ]
    },
    {
      "cell_type": "code",
      "metadata": {
        "colab": {
          "base_uri": "https://localhost:8080/"
        },
        "id": "4roKLAUf9X5t",
        "outputId": "cde912aa-440c-4716-9605-d6d2250d3af0"
      },
      "source": [
        "email_data.groupby(['Email_Status']).count()['Email_ID']"
      ],
      "execution_count": 8,
      "outputs": [
        {
          "output_type": "execute_result",
          "data": {
            "text/plain": [
              "Email_Status\n",
              "0    54941\n",
              "1    11039\n",
              "2     2373\n",
              "Name: Email_ID, dtype: int64"
            ]
          },
          "metadata": {
            "tags": []
          },
          "execution_count": 8
        }
      ]
    },
    {
      "cell_type": "markdown",
      "metadata": {
        "id": "FA4VgDuf96Hh"
      },
      "source": [
        "The data is imbalance"
      ]
    },
    {
      "cell_type": "code",
      "metadata": {
        "colab": {
          "base_uri": "https://localhost:8080/",
          "height": 351
        },
        "id": "aTsoPQSQ9g0V",
        "outputId": "083a2d7e-b28f-4d13-c644-b15bedd678c3"
      },
      "source": [
        "sns.countplot(email_data['Email_Status'])"
      ],
      "execution_count": 13,
      "outputs": [
        {
          "output_type": "stream",
          "text": [
            "/usr/local/lib/python3.7/dist-packages/seaborn/_decorators.py:43: FutureWarning: Pass the following variable as a keyword arg: x. From version 0.12, the only valid positional argument will be `data`, and passing other arguments without an explicit keyword will result in an error or misinterpretation.\n",
            "  FutureWarning\n"
          ],
          "name": "stderr"
        },
        {
          "output_type": "execute_result",
          "data": {
            "text/plain": [
              "<matplotlib.axes._subplots.AxesSubplot at 0x7ff07ce3f950>"
            ]
          },
          "metadata": {
            "tags": []
          },
          "execution_count": 13
        },
        {
          "output_type": "display_data",
          "data": {
            "image/png": "[encoded data removed]",
            "text/plain": [
              "<Figure size 432x288 with 1 Axes>"
            ]
          },
          "metadata": {
            "tags": [],
            "needs_background": "light"
          }
        }
      ]
    },
    {
      "cell_type": "code",
      "metadata": {
        "id": "zSh49m6v-cWI"
      },
      "source": [
        ""
      ],
      "execution_count": null,
      "outputs": []
    }
  ]
}